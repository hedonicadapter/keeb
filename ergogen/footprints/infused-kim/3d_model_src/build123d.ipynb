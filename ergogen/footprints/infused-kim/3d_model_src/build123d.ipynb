{
 "cells": [
  {
   "cell_type": "markdown",
   "metadata": {},
   "source": [
    "## Init"
   ]
  },
  {
   "cell_type": "code",
   "execution_count": null,
   "metadata": {},
   "outputs": [],
   "source": [
    "# %%\n",
    "\n",
    "import build123d\n",
    "from build123d import *\n",
    "\n",
    "from ocp_vscode import *\n",
    "set_port(3939)\n",
    "\n",
    "set_defaults(reset_camera=False, helper_scale=5)\n",
    "\n",
    "# %%"
   ]
  },
  {
   "cell_type": "markdown",
   "metadata": {},
   "source": [
    "## TrackPoints"
   ]
  },
  {
   "cell_type": "code",
   "execution_count": null,
   "metadata": {},
   "outputs": [],
   "source": [
    "import tp_model_generator\n",
    "\n",
    "# tp = tp_model_generator.TrackPointRedT460S(pcb_vert_offset=-5, z_offset=-5)\n",
    "tp = tp_model_generator.TrackPointRedT460S.build_tp_aligned_to_platform(\n",
    "    pcb_vert_offset=-2.0\n",
    ")\n",
    "\n",
    "show(tp)\n",
    "\n",
    "print(f'\\n{tp.show_topology()}')\n",
    "tp.print_sizes()\n"
   ]
  },
  {
   "cell_type": "code",
   "execution_count": null,
   "metadata": {},
   "outputs": [],
   "source": [
    "tp_model_generator.gen_kicad_models()"
   ]
  },
  {
   "cell_type": "markdown",
   "metadata": {},
   "source": [
    "## Trackpoint Caps"
   ]
  },
  {
   "cell_type": "code",
   "execution_count": null,
   "metadata": {},
   "outputs": [],
   "source": [
    "import tp_cap_generator\n",
    "\n",
    "cap = tp_cap_generator.TrackPointCapRedT460S()\n",
    "\n",
    "show(cap)\n",
    "\n",
    "# build123d.export_step(cap, 'export/my_cap.step')"
   ]
  },
  {
   "cell_type": "markdown",
   "metadata": {},
   "source": [
    "## Testing"
   ]
  },
  {
   "cell_type": "code",
   "execution_count": null,
   "metadata": {},
   "outputs": [],
   "source": []
  }
 ],
 "metadata": {
  "kernelspec": {
   "display_name": "kb_keyboard_case_gen",
   "language": "python",
   "name": "python3"
  },
  "language_info": {
   "codemirror_mode": {
    "name": "ipython",
    "version": 3
   },
   "file_extension": ".py",
   "mimetype": "text/x-python",
   "name": "python",
   "nbconvert_exporter": "python",
   "pygments_lexer": "ipython3",
   "version": "3.9.9"
  }
 },
 "nbformat": 4,
 "nbformat_minor": 2
}
